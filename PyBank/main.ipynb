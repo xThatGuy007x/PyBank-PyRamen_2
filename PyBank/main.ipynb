{
 "cells": [
  {
   "cell_type": "code",
   "execution_count": 213,
   "metadata": {},
   "outputs": [],
   "source": [
    "#import pathlib and csv\n",
    "from pathlib import Path\n",
    "import csv"
   ]
  },
  {
   "cell_type": "code",
   "execution_count": 214,
   "metadata": {},
   "outputs": [],
   "source": [
    "#create Path\n",
    "csvpath = Path('Resources/budget_data.csv')"
   ]
  },
  {
   "cell_type": "code",
   "execution_count": 215,
   "metadata": {},
   "outputs": [],
   "source": [
    "#initialize variables\n",
    "total_number_months = []\n",
    "net_profit_losses = []\n",
    "average_profit_losses = []\n",
    "greastest_increase_profits = []\n",
    "greatest_decrease_profits = []\n",
    "total_net = []\n"
   ]
  },
  {
   "cell_type": "code",
   "execution_count": 216,
   "metadata": {},
   "outputs": [
    {
     "name": "stdout",
     "output_type": "stream",
     "text": [
      "['Date', 'Profit/Losses']\n",
      "['Jan-2010', '867884']\n",
      "['Feb-2010', '984655']\n",
      "['Mar-2010', '322013']\n",
      "['Apr-2010', '-69417']\n",
      "['May-2010', '310503']\n",
      "['Jun-2010', '522857']\n",
      "['Jul-2010', '1033096']\n",
      "['Aug-2010', '604885']\n",
      "['Sep-2010', '-216386']\n",
      "['Oct-2010', '477532']\n",
      "['Nov-2010', '893810']\n",
      "['Dec-2010', '-80353']\n",
      "['Jan-2011', '779806']\n",
      "['Feb-2011', '-335203']\n",
      "['Mar-2011', '697845']\n",
      "['Apr-2011', '793163']\n",
      "['May-2011', '485070']\n",
      "['Jun-2011', '584122']\n",
      "['Jul-2011', '62729']\n",
      "['Aug-2011', '668179']\n",
      "['Sep-2011', '899906']\n",
      "['Oct-2011', '834719']\n",
      "['Nov-2011', '132003']\n",
      "['Dec-2011', '309978']\n",
      "['Jan-2012', '-755566']\n",
      "['Feb-2012', '1170593']\n",
      "['Mar-2012', '252788']\n",
      "['Apr-2012', '1151518']\n",
      "['May-2012', '817256']\n",
      "['Jun-2012', '570757']\n",
      "['Jul-2012', '506702']\n",
      "['Aug-2012', '-1022534']\n",
      "['Sep-2012', '475062']\n",
      "['Oct-2012', '779976']\n",
      "['Nov-2012', '144175']\n",
      "['Dec-2012', '542494']\n",
      "['Jan-2013', '359333']\n",
      "['Feb-2013', '321469']\n",
      "['Mar-2013', '67780']\n",
      "['Apr-2013', '471435']\n",
      "['May-2013', '565603']\n",
      "['Jun-2013', '872480']\n",
      "['Jul-2013', '789480']\n",
      "['Aug-2013', '999942']\n",
      "['Sep-2013', '-1196225']\n",
      "['Oct-2013', '268997']\n",
      "['Nov-2013', '-687986']\n",
      "['Dec-2013', '1150461']\n",
      "['Jan-2014', '682458']\n",
      "['Feb-2014', '617856']\n",
      "['Mar-2014', '824098']\n",
      "['Apr-2014', '581943']\n",
      "['May-2014', '132864']\n",
      "['Jun-2014', '448062']\n",
      "['Jul-2014', '689161']\n",
      "['Aug-2014', '800701']\n",
      "['Sep-2014', '1166643']\n",
      "['Oct-2014', '947333']\n",
      "['Nov-2014', '578668']\n",
      "['Dec-2014', '988505']\n",
      "['Jan-2015', '1139715']\n",
      "['Feb-2015', '1029471']\n",
      "['Mar-2015', '687533']\n",
      "['Apr-2015', '-524626']\n",
      "['May-2015', '158620']\n",
      "['Jun-2015', '87795']\n",
      "['Jul-2015', '423389']\n",
      "['Aug-2015', '840723']\n",
      "['Sep-2015', '568529']\n",
      "['Oct-2015', '332067']\n",
      "['Nov-2015', '989499']\n",
      "['Dec-2015', '778237']\n",
      "['Jan-2016', '650000']\n",
      "['Feb-2016', '-1100387']\n",
      "['Mar-2016', '-174946']\n",
      "['Apr-2016', '757143']\n",
      "['May-2016', '445709']\n",
      "['Jun-2016', '712961']\n",
      "['Jul-2016', '-1163797']\n",
      "['Aug-2016', '569899']\n",
      "['Sep-2016', '768450']\n",
      "['Oct-2016', '102685']\n",
      "['Nov-2016', '795914']\n",
      "['Dec-2016', '60988']\n",
      "['Jan-2017', '138230']\n",
      "['Feb-2017', '671099']\n",
      "[867884, 984655, 322013, -69417, 310503, 522857, 1033096, 604885, -216386, 477532, 893810, -80353, 779806, -335203, 697845, 793163, 485070, 584122, 62729, 668179, 899906, 834719, 132003, 309978, -755566, 1170593, 252788, 1151518, 817256, 570757, 506702, -1022534, 475062, 779976, 144175, 542494, 359333, 321469, 67780, 471435, 565603, 872480, 789480, 999942, -1196225, 268997, -687986, 1150461, 682458, 617856, 824098, 581943, 132864, 448062, 689161, 800701, 1166643, 947333, 578668, 988505, 1139715, 1029471, 687533, -524626, 158620, 87795, 423389, 840723, 568529, 332067, 989499, 778237, 650000, -1100387, -174946, 757143, 445709, 712961, -1163797, 569899, 768450, 102685, 795914, 60988, 138230, 671099]\n",
      "86\n"
     ]
    }
   ],
   "source": [
    "with open(csvpath, 'r') as csvfile:\n",
    "    csvreader = csv.reader(csvfile, delimiter= ',')\n",
    "\n",
    "    csv_header = next(csvreader)\n",
    "    print(csv_header)\n",
    "\n",
    "    for row in csvreader:\n",
    "        print(row)\n",
    "        \n",
    "        date = row[0]\n",
    "        profit_losses = int(row[1])\n",
    "        total_number_months.append(date)\n",
    "        total_net.append(profit_losses)\n",
    "\n",
    "print (total_net)\n",
    "print (len(total_number_months))\n",
    "\n"
   ]
  },
  {
   "cell_type": "code",
   "execution_count": 217,
   "metadata": {},
   "outputs": [
    {
     "name": "stdout",
     "output_type": "stream",
     "text": [
      "[116771, -662642, -391430, 379920, 212354, 510239, -428211, -821271, 693918, 416278, -974163, 860159, -1115009, 1033048, 95318, -308093, 99052, -521393, 605450, 231727, -65187, -702716, 177975, -1065544, 1926159, -917805, 898730, -334262, -246499, -64055, -1529236, 1497596, 304914, -635801, 398319, -183161, -37864, -253689, 403655, 94168, 306877, -83000, 210462, -2196167, 1465222, -956983, 1838447, -468003, -64602, 206242, -242155, -449079, 315198, 241099, 111540, 365942, -219310, -368665, 409837, 151210, -110244, -341938, -1212159, 683246, -70825, 335594, 417334, -272194, -236462, 657432, -211262, -128237, -1750387, 925441, 932089, -311434, 267252, -1876758, 1733696, 198551, -665765, 693229, -734926, 77242, 532869]\n"
     ]
    }
   ],
   "source": [
    "#net total amount of profit/losses over the entire period\n",
    "for i in range(1,len(total_net)):\n",
    "    x = total_net[i] - total_net[i-1]\n",
    "    net_profit_losses.append(x)\n",
    "print(net_profit_losses)"
   ]
  },
  {
   "cell_type": "code",
   "execution_count": 218,
   "metadata": {},
   "outputs": [
    {
     "name": "stdout",
     "output_type": "stream",
     "text": [
      "-2315.12\n"
     ]
    }
   ],
   "source": [
    "#find the average of the changes in profit/losses over the entire period\n",
    "average_profit_losses = round(sum(net_profit_losses)/len(net_profit_losses), 2)\n",
    "print (average_profit_losses)"
   ]
  },
  {
   "cell_type": "code",
   "execution_count": 219,
   "metadata": {},
   "outputs": [
    {
     "name": "stdout",
     "output_type": "stream",
     "text": [
      "1926159\n",
      "24\n"
     ]
    }
   ],
   "source": [
    "#the greatest increase in profits (date and amount) over the entire period\n",
    "greastest_increase_profits = max(net_profit_losses)\n",
    "print (greastest_increase_profits)\n",
    "greater_index = net_profit_losses.index(greastest_increase_profits)\n",
    "print(greater_index) \n",
    "current_month = total_number_months [greater_index+1]"
   ]
  },
  {
   "cell_type": "code",
   "execution_count": 220,
   "metadata": {},
   "outputs": [
    {
     "name": "stdout",
     "output_type": "stream",
     "text": [
      "-2196167\n",
      "43\n"
     ]
    }
   ],
   "source": [
    "#thegreatest decrease in profits (date and amount) over the entire period\n",
    "greatest_decrease_profits = min(net_profit_losses)\n",
    "print (greatest_decrease_profits)\n",
    "greater_index2 = net_profit_losses.index(greatest_decrease_profits)\n",
    "print(greater_index2)\n",
    "current_month2 = total_number_months [greater_index2+1]"
   ]
  },
  {
   "cell_type": "code",
   "execution_count": 221,
   "metadata": {},
   "outputs": [
    {
     "name": "stdout",
     "output_type": "stream",
     "text": [
      "Finacial Analysis\n",
      "-------------------------------\n",
      "Total Months: 86\n",
      "Total: 38382578\n",
      "Average Change: -2315.12\n",
      "Greatest Increase in Profits: Feb-2012 1926159\n",
      "Greastest Decrease in Profits: Sep-2013 -2196167\n"
     ]
    }
   ],
   "source": [
    "#the greatest decrease in losses (date and amount) over the period\n",
    "print(\"Finacial Analysis\")\n",
    "print(\"-------------------------------\")\n",
    "print(f\"Total Months: {len(total_number_months)}\")\n",
    "print(f\"Total: {total}\")\n",
    "print(f\"Average Change: {average_profit_losses}\")\n",
    "print(f\"Greatest Increase in Profits: {current_month} {greastest_increase_profits}\")\n",
    "print(f\"Greastest Decrease in Profits: {current_month2} {greatest_decrease_profits}\")"
   ]
  },
  {
   "cell_type": "code",
   "execution_count": 223,
   "metadata": {},
   "outputs": [],
   "source": [
    "#export text file\n",
    "output_path = \"Pybank.txt\"\n",
    "with open(output_path, 'w') as file:\n",
    "    file.write(\"Finacial Analysis\")\n",
    "    file.write(\"-------------------------------\")\n",
    "    file.write(f\"Total Months: {len(total_number_months)}\")\n",
    "    file.write(f\"Total: {total}\")\n",
    "    file.write(f\"Average Change: {average_profit_losses}\")\n",
    "    file.write(f\"Greatest Increase in Profits: {current_month} {greastest_increase_profits}\")\n",
    "    file.write(f\"Greastest Decrease in Profits: {current_month2} {greatest_decrease_profits}\")\n",
    "    \n",
    "\n"
   ]
  }
 ],
 "metadata": {
  "interpreter": {
   "hash": "286cb6f6908d17cec0e412f2567e27976c42c5296eda3655aeffb02d8b160c9c"
  },
  "kernelspec": {
   "display_name": "Python 3.7.11 ('dev')",
   "language": "python",
   "name": "python3"
  },
  "language_info": {
   "codemirror_mode": {
    "name": "ipython",
    "version": 3
   },
   "file_extension": ".py",
   "mimetype": "text/x-python",
   "name": "python",
   "nbconvert_exporter": "python",
   "pygments_lexer": "ipython3",
   "version": "3.7.11"
  },
  "orig_nbformat": 4
 },
 "nbformat": 4,
 "nbformat_minor": 2
}
