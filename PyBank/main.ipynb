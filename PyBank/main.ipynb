{
 "cells": [
  {
   "cell_type": "code",
   "execution_count": 213,
   "metadata": {},
   "outputs": [],
   "source": [
    "#import pathlib and csv\n",
    "from pathlib import Path\n",
    "import csv"
   ]
  },
  {
   "cell_type": "code",
   "execution_count": 214,
   "metadata": {},
   "outputs": [],
   "source": [
    "#create Path\n",
    "csvpath = Path('Resources/budget_data.csv')"
   ]
  },
  {
   "cell_type": "code",
   "execution_count": 215,
   "metadata": {},
   "outputs": [],
   "source": [
    "#initialize variables\n",
    "total_number_months = []\n",
    "net_profit_losses = []\n",
    "average_profit_losses = []\n",
    "greastest_increase_profits = []\n",
    "greatest_decrease_profits = []\n",
    "total_net = []\n"
   ]
  },
  {
   "cell_type": "code",
   "execution_count": null,
   "metadata": {},
   "outputs": [],
   "source": [
    "with open(csvpath, 'r') as csvfile:\n",
    "    csvreader = csv.reader(csvfile, delimiter= ',')\n",
    "\n",
    "    csv_header = next(csvreader)\n",
    "    print(csv_header)\n",
    "\n",
    "    for row in csvreader:\n",
    "        print(row)\n",
    "        \n",
    "        date = row[0]\n",
    "        profit_losses = int(row[1])\n",
    "        total_number_months.append(date)\n",
    "        total_net.append(profit_losses)\n",
    "\n",
    "print (total_net)\n",
    "print (len(total_number_months))\n",
    "\n"
   ]
  },
  {
   "cell_type": "code",
   "execution_count": null,
   "metadata": {},
   "outputs": [],
   "source": [
    "#net total amount of profit/losses over the entire period\n",
    "for i in range(1,len(total_net)):\n",
    "    x = total_net[i] - total_net[i-1]\n",
    "    net_profit_losses.append(x)\n",
    "print(net_profit_losses)"
   ]
  },
  {
   "cell_type": "code",
   "execution_count": null,
   "metadata": {},
   "outputs": [],
   "source": [
    "#find the average of the changes in profit/losses over the entire period\n",
    "average_profit_losses = round(sum(net_profit_losses)/len(net_profit_losses), 2)\n",
    "print (average_profit_losses)"
   ]
  },
  {
   "cell_type": "code",
   "execution_count": null,
   "metadata": {},
   "outputs": [],
   "source": [
    "#the greatest increase in profits (date and amount) over the entire period\n",
    "greastest_increase_profits = max(net_profit_losses)\n",
    "print (greastest_increase_profits)\n",
    "greater_index = net_profit_losses.index(greastest_increase_profits)\n",
    "print(greater_index) \n",
    "current_month = total_number_months [greater_index+1]"
   ]
  },
  {
   "cell_type": "code",
   "execution_count": null,
   "metadata": {},
   "outputs": [],
   "source": [
    "#thegreatest decrease in profits (date and amount) over the entire period\n",
    "greatest_decrease_profits = min(net_profit_losses)\n",
    "print (greatest_decrease_profits)\n",
    "greater_index2 = net_profit_losses.index(greatest_decrease_profits)\n",
    "print(greater_index2)\n",
    "current_month2 = total_number_months [greater_index2+1]"
   ]
  },
  {
   "cell_type": "code",
   "execution_count": null,
   "metadata": {},
   "outputs": [],
   "source": [
    "#the greatest decrease in losses (date and amount) over the period\n",
    "print(\"Finacial Analysis\")\n",
    "print(\"-------------------------------\")\n",
    "print(f\"Total Months: {len(total_number_months)}\")\n",
    "print(f\"Total: {total}\")\n",
    "print(f\"Average Change: {average_profit_losses}\")\n",
    "print(f\"Greatest Increase in Profits: {current_month} {greastest_increase_profits}\")\n",
    "print(f\"Greastest Decrease in Profits: {current_month2} {greatest_decrease_profits}\")"
   ]
  },
  {
   "cell_type": "code",
   "execution_count": 223,
   "metadata": {},
   "outputs": [],
   "source": [
    "#export text file\n",
    "output_path = \"Pybank.txt\"\n",
    "with open(output_path, 'w') as file:\n",
    "    file.write(\"Finacial Analysis\")\n",
    "    file.write(\"-------------------------------\")\n",
    "    file.write(f\"Total Months: {len(total_number_months)}\")\n",
    "    file.write(f\"Total: {total}\")\n",
    "    file.write(f\"Average Change: {average_profit_losses}\")\n",
    "    file.write(f\"Greatest Increase in Profits: {current_month} {greastest_increase_profits}\")\n",
    "    file.write(f\"Greastest Decrease in Profits: {current_month2} {greatest_decrease_profits}\")\n",
    "    \n",
    "\n"
   ]
  }
 ],
 "metadata": {
  "interpreter": {
   "hash": "286cb6f6908d17cec0e412f2567e27976c42c5296eda3655aeffb02d8b160c9c"
  },
  "kernelspec": {
   "display_name": "Python 3.7.11 ('dev')",
   "language": "python",
   "name": "python3"
  },
  "language_info": {
   "codemirror_mode": {
    "name": "ipython",
    "version": 3
   },
   "file_extension": ".py",
   "mimetype": "text/x-python",
   "name": "python",
   "nbconvert_exporter": "python",
   "pygments_lexer": "ipython3",
   "version": "3.7.11"
  },
  "orig_nbformat": 4
 },
 "nbformat": 4,
 "nbformat_minor": 2
}
